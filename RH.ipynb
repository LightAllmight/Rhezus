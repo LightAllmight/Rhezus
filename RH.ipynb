{
 "cells": [
  {
   "cell_type": "code",
   "execution_count": 1,
   "id": "f727c1e7",
   "metadata": {},
   "outputs": [],
   "source": [
    "                                        # Imported libraries # \n",
    "import numpy as np\n",
    "import csv\n",
    "import matplotlib.pyplot as mp\n",
    "import pandas as pd"
   ]
  },
  {
   "cell_type": "code",
   "execution_count": 2,
   "id": "f01b28f5",
   "metadata": {},
   "outputs": [],
   "source": [
    "                                            # Parameters # \n",
    "\n",
    "alfa = 0.7\n",
    "Title = \"BTC\" # \"Shiba-Inu\", \"RAI\", \"FEI\", \"ETH\", \"BTC\"                # Choose the desired Asset for test\n",
    "sigma_event = 3                                                              # Desired sigma event quality \n",
    "\n",
    "# CF constraints\n",
    "absolute_percentage = 0.05\n",
    "Max_CF = 0.9\n",
    "\n",
    "# Isolated Reserve \n",
    "IR_size = 1e6\n",
    "\n",
    "# usable data\n",
    "update_period = 5 # 7                                                        # CF update period\n",
    "validation_period = 28\n",
    "CF_test_period = 180\n",
    "csv_data = np.zeros(CF_test_period)\n",
    "x_ax = np.arange(CF_test_period)\n",
    "\n",
    "# Test asset choice\n",
    "CSV_dict = {\n",
    "    \n",
    "    \"ETH\" :           'eth-usd-max.csv',\n",
    "    \"Shiba-Inu\" :     'shib-usd.csv',\n",
    "    \"RAI\" :           'rai-usd-max.csv',\n",
    "    \"FEI\" :           'fei-usd-max.csv',\n",
    "    \"BTC\" :           'btc-usd-max.csv'\n",
    "}\n",
    "\n",
    "filename = CSV_dict[Title]"
   ]
  },
  {
   "cell_type": "code",
   "execution_count": 3,
   "id": "88e9d9be",
   "metadata": {},
   "outputs": [],
   "source": [
    "                                        # Calculation functoins # \n",
    "\n",
    "def returns_calculation(P):\n",
    "    returns = np.zeros(P.size-1)\n",
    "    for _ in range(1, P.size):\n",
    "        returns[_-1] = (P[_]/P[_-1])-1\n",
    "    return returns\n",
    "\n",
    "def STD_calculation(X):\n",
    "    return np.std(X)\n",
    "\n",
    "def random_common_week(P, period = 7):\n",
    "    Prices = np.random.randint(mean_price * (1 - prices_range_ratio), mean_price * (1 + prices_range_ratio), size=period)\n",
    "    return np.hstack((P[period:],Prices))\n",
    "\n",
    "def random_week(sigma_event, P, period = 7):\n",
    "    Prices = np.random.randint(mean_price * (1 - (sigma_event*prices_range_ratio)), mean_price * (1 + (sigma_event*prices_range_ratio)), size=period)\n",
    "    return np.hstack((P[period:],Prices))\n",
    "\n",
    "def daily_change(P, period = 1):\n",
    "    Prices = np.random.randint(mean_price * (1 - (sigma_event*prices_range_ratio)), mean_price * (1 + (sigma_event*prices_range_ratio)), size=period)\n",
    "    return np.hstack((P[period:], Prices))\n",
    "\n",
    "def raw_formula(sigm, crash_sigm, CF_acc = 0, liq_rate=0):\n",
    "\n",
    "    ###\n",
    "    # This approach operates with returns\n",
    "    # Hard liquidation (50 %)\n",
    "    ###\n",
    "    price_ratio = 10\n",
    "    CF = (1-(2*(crash_sigm+liq_rate/100)+1)*sigm)\n",
    "    Debt = CF*price_ratio\n",
    "    liq_rate = 1+(liq_rate/100)\n",
    "    #Upd_L = CF*(price_ratio*(1-(crash_sigm*sigm)))\n",
    "    Liq = 0.5*Debt\n",
    "    Liq_a2 = Liq/(price_ratio*(1-(crash_sigm*sigm)))\n",
    "    Up = 1-(liq_rate*Liq_a2)\n",
    "    Rest = Up*CF*(price_ratio*(1-(crash_sigm*sigm)))\n",
    "\n",
    "    print(\" CF = {:.3f}, debt = {:.3f}, rest = {:.3f}\".format(CF, Debt/2, Rest))\n",
    "    \n",
    "    \n",
    "    # !!! comparison with accurate solution (not ready yet) !!! #\n",
    "    \n",
    "    #alternative = Up*CF_acc*(price_ratio*(1-(crash_sigm*sigm)))\n",
    "    #print(\" Alternative rest = {:.3f}\".format(alternative))\n",
    "    \n",
    "    return CF\n",
    "\n",
    "def CF_calculation(Prices, nsigma):\n",
    "    # Accurate formula (need to revise)\n",
    "    \n",
    "    P_init = Prices[-1]\n",
    "    P_nsgima = np.mean(Prices) - (nsigma * STD_calculation(Prices))\n",
    "    CF = ((2 / P_init) - (1 / P_nsgima)) #* (2 / np.mean(Prices))\n",
    "    #print(\"CF = {:.3f}\".format(CF))\n",
    "    return CF"
   ]
  },
  {
   "cell_type": "code",
   "execution_count": 4,
   "id": "0b3af2da",
   "metadata": {},
   "outputs": [
    {
     "data": {
      "image/png": "[encoded data removed]",
      "text/plain": [
       "<Figure size 432x288 with 1 Axes>"
      ]
     },
     "metadata": {
      "needs_background": "light"
     },
     "output_type": "display_data"
    }
   ],
   "source": [
    "                                             # CSV prices file parsing #\n",
    "\n",
    "a = np.genfromtxt(filename, delimiter=',')\n",
    "lastN = a[-180:]\n",
    "lastN_prices = np.zeros(lastN.shape[0])\n",
    "\n",
    "for _ in range(lastN.shape[0]):\n",
    "    lastN_prices[_] = lastN[_][1]\n",
    "\n",
    "mp.plot(x_ax, lastN_prices)\n",
    "mp.xlabel(\"days\")                                                                               # plot prices for comparison\n",
    "mp.ylabel(\"price in USD\")\n",
    "mp.title(\"{:.15s} Price\". format(Title))\n",
    "mp.show()"
   ]
  },
  {
   "cell_type": "code",
   "execution_count": 5,
   "id": "49800ffa",
   "metadata": {},
   "outputs": [
    {
     "name": "stdout",
     "output_type": "stream",
     "text": [
      " CF = 0.747, debt = 3.733, rest = 3.868\n",
      " CF = 0.749, debt = 3.746, rest = 3.880\n",
      " CF = 0.742, debt = 3.709, rest = 3.846\n",
      " CF = 0.761, debt = 3.806, rest = 3.936\n",
      " CF = 0.746, debt = 3.730, rest = 3.865\n",
      " CF = 0.686, debt = 3.431, rest = 3.585\n",
      " CF = 0.711, debt = 3.554, rest = 3.701\n",
      " CF = 0.679, debt = 3.395, rest = 3.551\n",
      " CF = 0.689, debt = 3.444, rest = 3.597\n",
      " CF = 0.700, debt = 3.499, rest = 3.649\n",
      " CF = 0.765, debt = 3.823, rest = 3.952\n",
      " CF = 0.795, debt = 3.975, rest = 4.091\n",
      " CF = 0.831, debt = 4.154, rest = 4.255\n",
      " CF = 0.820, debt = 4.102, rest = 4.207\n",
      " CF = 0.826, debt = 4.131, rest = 4.234\n",
      " CF = 0.829, debt = 4.143, rest = 4.244\n",
      " CF = 0.826, debt = 4.129, rest = 4.232\n",
      " CF = 0.819, debt = 4.097, rest = 4.202\n",
      " CF = 0.794, debt = 3.971, rest = 4.088\n",
      " CF = 0.749, debt = 3.746, rest = 3.880\n",
      " CF = 0.739, debt = 3.697, rest = 3.835\n",
      " CF = 0.712, debt = 3.562, rest = 3.709\n",
      " CF = 0.721, debt = 3.607, rest = 3.751\n",
      " CF = 0.709, debt = 3.545, rest = 3.693\n",
      " CF = 0.757, debt = 3.784, rest = 3.916\n",
      " CF = 0.763, debt = 3.816, rest = 3.945\n",
      " CF = 0.707, debt = 3.535, rest = 3.683\n",
      " CF = 0.665, debt = 3.327, rest = 3.486\n",
      " CF = 0.653, debt = 3.266, rest = 3.428\n",
      " CF = 0.685, debt = 3.427, rest = 3.581\n",
      " CF = 0.687, debt = 3.435, rest = 3.589\n"
     ]
    }
   ],
   "source": [
    "\n",
    "                                #################   Simulation    #################\n",
    "\n",
    "returns = returns_calculation(lastN_prices[-28:])\n",
    "std_returns = STD_calculation(returns)\n",
    "# Res_acc = CF_calculation(lastN_prices[-28:]/(np.mean(lastN_prices)), sigma_event)\n",
    "Res_raw = raw_formula(std_returns, 3)\n",
    "\n",
    "\n",
    "Raw_plot = list()\n",
    "Raw_plot_const = list()\n",
    "\n",
    "for i in range((CF_test_period-validation_period)//update_period):\n",
    "    Prices = lastN_prices[i*update_period:(i*update_period)+validation_period]\n",
    "\n",
    "    returns = returns_calculation(Prices)#[-28:])\n",
    "    std_returns = STD_calculation(returns)\n",
    "\n",
    "    #Res_acc = CF_calculation(Prices[-28:] / (np.mean(Prices)), sigma_event)\n",
    "    Res_raw = raw_formula(std_returns, 3)\n",
    "    if Res_raw > Max_CF:\n",
    "        Res_raw = Max_CF\n",
    "    \n",
    "    Res_raw_const = Res_raw\n",
    "    \n",
    "    # absolute constraint #\n",
    "    if Raw_plot_const != [] and Res_raw_const > (1+absolute_percentage)*Raw_plot_const[-1][-1]:\n",
    "        Res_raw_const = (1+absolute_percentage)*Raw_plot_const[-1][-1]\n",
    "\n",
    "    Raw_plot.append([Res_raw]*update_period)\n",
    "    Raw_plot_const.append([Res_raw_const]*update_period)\n",
    "\n",
    "Raw_g = np.zeros(len(Raw_plot)*len(Raw_plot[0]))\n",
    "Raw_g_const = np.zeros(len(Raw_plot_const)*len(Raw_plot[0]))\n",
    "\n",
    "m = 0\n",
    "for j in range(len(Raw_plot)):\n",
    "    for i in range(len(Raw_plot[0])):\n",
    "        Raw_g[m] = Raw_plot[j][i]\n",
    "        m+=1\n",
    "m = 0\n",
    "for j in range(len(Raw_plot_const)):\n",
    "    for i in range(len(Raw_plot_const[0])):\n",
    "        Raw_g_const[m] = Raw_plot_const[j][i]\n",
    "        m+=1\n",
    "        "
   ]
  },
  {
   "cell_type": "code",
   "execution_count": 6,
   "id": "c2bad26f",
   "metadata": {},
   "outputs": [
    {
     "data": {
      "image/png": "[encoded data removed]",
      "text/plain": [
       "<Figure size 432x288 with 1 Axes>"
      ]
     },
     "metadata": {
      "needs_background": "light"
     },
     "output_type": "display_data"
    }
   ],
   "source": [
    "                    ############################# CF curve analysis ###########################################\n",
    "\n",
    "#abs_const = np.load(\"Absolute_constraint.npy\")\n",
    "fig, ax = mp.subplots()\n",
    "\n",
    "# plot without validation period  \n",
    "#Non_constrained, = ax.plot(x_ax[validation_period:150+validation_period], Raw_g, label = \"non_constrained CF\")\n",
    "#Constrained, = ax.plot(x_ax[validation_period:150+validation_period], Raw_g_const, label = \"constrained CF\")\n",
    "\n",
    "# plot with validation period  \n",
    "Non_constrained, = ax.plot(x_ax, np.hstack((np.zeros(CF_test_period - Raw_g.shape[0]), Raw_g)), label = \"non_constrained CF\")\n",
    "Constrained, = ax.plot(x_ax, np.hstack((np.zeros(CF_test_period - Raw_g_const.shape[0]), Raw_g_const)), label = \"constrained CF\")\n",
    "\n",
    "mp.xlabel(\"days\")\n",
    "mp.ylabel(\"Collateral factor\")\n",
    "mp.title(\"{:.15s} CF hard solution\".format(Title))\n",
    "ax.legend(handles = [Non_constrained, Constrained])\n",
    "mp.show()"
   ]
  }
 ],
 "metadata": {
  "kernelspec": {
   "display_name": "Python 3 (ipykernel)",
   "language": "python",
   "name": "python3"
  },
  "language_info": {
   "codemirror_mode": {
    "name": "ipython",
    "version": 3
   },
   "file_extension": ".py",
   "mimetype": "text/x-python",
   "name": "python",
   "nbconvert_exporter": "python",
   "pygments_lexer": "ipython3",
   "version": "3.10.3"
  }
 },
 "nbformat": 4,
 "nbformat_minor": 5
}
