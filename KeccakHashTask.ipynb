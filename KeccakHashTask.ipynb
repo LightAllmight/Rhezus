{
 "cells": [
  {
   "cell_type": "code",
   "execution_count": 1,
   "id": "9961e424",
   "metadata": {},
   "outputs": [],
   "source": [
    "# Alphabet initialization\n",
    "\n",
    "lower_case = \"abcdefghijklmNopqrstuvwxyz\"\n",
    "upper_case = \"ABCDEFGHIJKLMNOPQRSTUVWXYZ\"\n",
    "numbers =  \"0123456789\"\n",
    "symbols = \"_\"\n",
    "\n",
    "Merged = lower_case + upper_case + numbers + symbols"
   ]
  },
  {
   "cell_type": "code",
   "execution_count": 54,
   "id": "6d6de768",
   "metadata": {},
   "outputs": [],
   "source": [
    "# Wrapping keccak calculation into function\n",
    "\n",
    "import random\n",
    "\n",
    "\n",
    "def keccak_calculation(Word):\n",
    "    from Crypto.Hash import keccak\n",
    "    import binascii\n",
    "    \n",
    "    For_hash = bytes(str(Word), 'utf-8')\n",
    "    keccak = keccak.new(data=For_hash, digest_bits=256).digest()\n",
    "    return binascii.hexlify(keccak)"
   ]
  },
  {
   "cell_type": "code",
   "execution_count": null,
   "id": "71a3b408",
   "metadata": {},
   "outputs": [
    {
     "name": "stdout",
     "output_type": "stream",
     "text": [
      "<class 'str'>\n",
      "Current length of testing words is: 0\n",
      "Current length of testing words is: 1\n",
      "Current length of testing words is: 2\n",
      "Current length of testing words is: 3\n",
      "Current length of testing words is: 4\n"
     ]
    }
   ],
   "source": [
    "# Test for random generation\n",
    "\n",
    "import itertools\n",
    "import random\n",
    "from Crypto.Hash import keccak\n",
    "\n",
    "\n",
    "Used_words = []                                   # array to save used already words\n",
    "Desired_number_of_zeros = 7\n",
    "got_it = 0\n",
    "it = 0\n",
    "\n",
    "# Create string, that need to be found in hash result\n",
    "STR = \"0\"*Desired_number_of_zeros\n",
    "print(type(STR))\n",
    "\n",
    "#########\n",
    "for L in range(len(Merged)):\n",
    "    if got_it == 1:\n",
    "        break\n",
    "    print(\"Current length of testing words is:\",L)\n",
    "    layer_perms = []\n",
    "    permutations = itertools.permutations(Merged, L)\n",
    "    for subset in permutations:\n",
    "        layer_perms.append(subset)\n",
    "    for i in layer_perms:\n",
    "        Hash = keccak_calculation(i)\n",
    "        decoded_hash = str(Hash.decode('utf-8'))                                        # unwrap byte string to normal str\n",
    "        is_in_Hash = decoded_hash.find(STR, 0, Desired_number_of_zeros) \n",
    "        if is_in_Hash != -1:\n",
    "            print(\"Bingo!\", decoded_hash)\n",
    "            print(\"\".join(i))\n",
    "            got_it = 1\n",
    "            break\n",
    "        elif is_in_Hash == -1:\n",
    "            continue"
   ]
  },
  {
   "cell_type": "code",
   "execution_count": null,
   "id": "0db318b0",
   "metadata": {},
   "outputs": [],
   "source": []
  }
 ],
 "metadata": {
  "kernelspec": {
   "display_name": "Python 3 (ipykernel)",
   "language": "python",
   "name": "python3"
  },
  "language_info": {
   "codemirror_mode": {
    "name": "ipython",
    "version": 3
   },
   "file_extension": ".py",
   "mimetype": "text/x-python",
   "name": "python",
   "nbconvert_exporter": "python",
   "pygments_lexer": "ipython3",
   "version": "3.10.3"
  }
 },
 "nbformat": 4,
 "nbformat_minor": 5
}
