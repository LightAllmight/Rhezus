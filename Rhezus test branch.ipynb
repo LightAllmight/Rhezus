{
 "cells": [
  {
   "cell_type": "code",
   "execution_count": 1,
   "id": "29c2015b",
   "metadata": {},
   "outputs": [],
   "source": [
    "import numpy as np\n",
    "import csv\n",
    "import matplotlib.pyplot as mp\n",
    "import pandas as pd\n",
    "\n",
    "\n",
    "                    #################   System parameters   #################\n",
    "\n",
    "# old test data\n",
    "min_optimal_UR = 10\n",
    "max_optimal_UR = 80\n",
    "UR_critical_upper_bound = 85\n",
    "mean_price = 165\n",
    "prices_range_ratio = 0.1\n",
    "\n",
    "alfa = 0.7\n",
    "\n",
    "# CF constraints\n",
    "absolute_percentage = 0.05\n",
    "Max_CF = 0.9\n",
    "\n",
    "# usable data\n",
    "validation_period = 28\n",
    "CF_test_period = 180\n",
    "csv_data = np.zeros(CF_test_period)\n",
    "x_ax = np.arange(CF_test_period)\n",
    "filename = 'eth-usd-max.csv' #'shib-usd.csv' # 'fei-usd-max.csv' # 'rai-usd-max.csv' 'eth-usd-max.csv' 'btc-usd-max.csv'\n",
    "Title = \"ETh\" # \"Shiba-Inu\", \"RAI\", \"FEI\", \"ETH\"\n",
    "\n",
    "sigma_event = 3"
   ]
  },
  {
   "cell_type": "code",
   "execution_count": 2,
   "id": "1611c868",
   "metadata": {},
   "outputs": [],
   "source": [
    "                    #################   Calculation functoins   #################\n",
    "\n",
    "def returns_calculation(P):\n",
    "    returns = np.zeros(P.size-1)\n",
    "    for _ in range(1, P.size):\n",
    "        returns[_-1] = (P[_]/P[_-1])-1\n",
    "    return returns\n",
    "\n",
    "def STD_calculation(X):\n",
    "    return np.std(X)\n",
    "\n",
    "def random_common_week(P, period = 7):\n",
    "    Prices = np.random.randint(mean_price * (1 - prices_range_ratio), mean_price * (1 + prices_range_ratio), size=period)\n",
    "    return np.hstack((P[period:],Prices))\n",
    "\n",
    "def random_week(sigma_event, P, period = 7):\n",
    "    Prices = np.random.randint(mean_price * (1 - (sigma_event*prices_range_ratio)), mean_price * (1 + (sigma_event*prices_range_ratio)), size=period)\n",
    "    return np.hstack((P[period:],Prices))\n",
    "\n",
    "def daily_change(P, period = 1):\n",
    "    Prices = np.random.randint(mean_price * (1 - (sigma_event*prices_range_ratio)), mean_price * (1 + (sigma_event*prices_range_ratio)), size=period)\n",
    "    return np.hstack((P[period:], Prices))\n",
    "\n",
    "def raw_formula(sigm, crash_sigm, CF_acc, liq_rate=0):\n",
    "\n",
    "    ###\n",
    "    # This approach operates with returns\n",
    "    # Hard liquidation (50 %)\n",
    "    ###\n",
    "    price_ratio = 10\n",
    "    CF = (1-(2*(crash_sigm+liq_rate/100)+1)*sigm)\n",
    "    Debt = CF*price_ratio\n",
    "    liq_rate = 1+(liq_rate/100)\n",
    "    #Upd_L = CF*(price_ratio*(1-(crash_sigm*sigm)))\n",
    "    Liq = 0.5*Debt\n",
    "    Liq_a2 = Liq/(price_ratio*(1-(crash_sigm*sigm)))\n",
    "    Up = 1-(liq_rate*Liq_a2)\n",
    "    Rest = Up*CF*(price_ratio*(1-(crash_sigm*sigm)))\n",
    "\n",
    "    alternative = Up*CF_acc*(price_ratio*(1-(crash_sigm*sigm)))\n",
    "    #print(\" CF = {:.3f}, debt = {:.3f}, rest = {:.3f}\".format(CF, Debt/2, Rest))\n",
    "    #print(\" Alternative rest = {:.3f}\".format(alternative))\n",
    "    return CF\n",
    "\n",
    "def CF_calculation(Prices, nsigma):\n",
    "    P_init = Prices[-1]\n",
    "    P_nsgima = np.mean(Prices) - (nsigma * STD_calculation(Prices))\n",
    "    CF = ((2 / P_init) - (1 / P_nsgima)) #* (2 / np.mean(Prices))\n",
    "    print(\"CF = {:.3f}\".format(CF))\n",
    "    return CF"
   ]
  },
  {
   "cell_type": "code",
   "execution_count": 3,
   "id": "c6af779d",
   "metadata": {},
   "outputs": [
    {
     "data": {
      "image/png": "[encoded data removed]",
      "text/plain": [
       "<Figure size 432x288 with 1 Axes>"
      ]
     },
     "metadata": {
      "needs_background": "light"
     },
     "output_type": "display_data"
    }
   ],
   "source": [
    "                             ################# CSV prices file parsing #####################\n",
    "\n",
    "a = np.genfromtxt(filename, delimiter=',')\n",
    "lastN = a[-180:]\n",
    "lastN_prices = np.zeros(lastN.shape[0])\n",
    "\n",
    "for _ in range(lastN.shape[0]):\n",
    "    lastN_prices[_] = lastN[_][1]\n",
    "\n",
    "mp.plot(x_ax, lastN_prices)\n",
    "mp.xlabel(\"days\")                                                                               # plot prices for comparison\n",
    "mp.ylabel(\"price in USD\")\n",
    "mp.title(\"{:.15s} Price\". format(Title))\n",
    "mp.show()"
   ]
  },
  {
   "cell_type": "code",
   "execution_count": 4,
   "id": "c1c8267d",
   "metadata": {},
   "outputs": [
    {
     "name": "stdout",
     "output_type": "stream",
     "text": [
      "CF = 2.048\n"
     ]
    }
   ],
   "source": [
    "\n",
    "                                #################   Simulation    #################\n",
    "\n",
    "# Prices generation\n",
    "#Prices = np.random.randint(mean_price*(1-prices_range_ratio), mean_price*(1+prices_range_ratio), size=validation_period)\n",
    "#PricesX96 = Prices*(2**96)\n",
    "returns = returns_calculation(lastN_prices[-28:])\n",
    "std_returns = STD_calculation(returns)\n",
    "\n",
    "Res_acc = CF_calculation(lastN_prices[-28:]/(np.mean(lastN_prices)), sigma_event)\n",
    "Res_raw = raw_formula(std_returns, 3, Res_acc)\n",
    "\n",
    "\n",
    "Raw_plot = list()\n",
    "Raw_plot_const = list()\n",
    "update_period = 5\n",
    "for i in range((CF_test_period-validation_period)//update_period):\n",
    "    Prices = lastN_prices[i*update_period:(i*update_period)+validation_period]\n",
    "\n",
    "    returns = returns_calculation(Prices)#[-28:])\n",
    "    std_returns = STD_calculation(returns)\n",
    "\n",
    "    #Res_acc = CF_calculation(Prices[-28:] / (np.mean(Prices)), sigma_event)\n",
    "    Res_raw = raw_formula(std_returns, 3, Res_acc)\n",
    "    if Res_raw > Max_CF:\n",
    "        Res_raw = Max_CF\n",
    "    \n",
    "    Res_raw_const = Res_raw\n",
    "    \n",
    "    # absolute constraint #\n",
    "    if Raw_plot_const != [] and Res_raw_const > (1+absolute_percentage)*Raw_plot_const[-1][-1]:\n",
    "        Res_raw_const = (1+absolute_percentage)*Raw_plot_const[-1][-1]\n",
    "\n",
    "    Raw_plot.append([Res_raw]*update_period)\n",
    "    Raw_plot_const.append([Res_raw_const]*update_period)\n",
    "\n",
    "Raw_g = np.zeros(len(Raw_plot)*len(Raw_plot[0]))\n",
    "Raw_g_const = np.zeros(len(Raw_plot_const)*len(Raw_plot[0]))\n",
    "\n",
    "m = 0\n",
    "for j in range(len(Raw_plot)):\n",
    "    for i in range(len(Raw_plot[0])):\n",
    "        Raw_g[m] = Raw_plot[j][i]\n",
    "        m+=1\n",
    "m = 0\n",
    "for j in range(len(Raw_plot_const)):\n",
    "    for i in range(len(Raw_plot_const[0])):\n",
    "        Raw_g_const[m] = Raw_plot_const[j][i]\n",
    "        m+=1\n",
    "        \n",
    "        \n",
    "        # Need to revise\n",
    "#np.save(\"Absolute_constraint\", Raw_g)\n",
    "\n"
   ]
  },
  {
   "cell_type": "markdown",
   "id": "6433149c",
   "metadata": {},
   "source": [
    "# CF curve analysis"
   ]
  },
  {
   "cell_type": "code",
   "execution_count": 5,
   "id": "1eed7f32",
   "metadata": {},
   "outputs": [
    {
     "data": {
      "image/png": "[encoded data removed]",
      "text/plain": [
       "<Figure size 432x288 with 1 Axes>"
      ]
     },
     "metadata": {
      "needs_background": "light"
     },
     "output_type": "display_data"
    }
   ],
   "source": [
    "                    ############################# CF curve analysis ###########################################\n",
    "\n",
    "#abs_const = np.load(\"Absolute_constraint.npy\")\n",
    "fig, ax = mp.subplots()\n",
    "Non_constrained, = ax.plot(x_ax[validation_period:150+validation_period], Raw_g, label = \"non_constrained CF\")\n",
    "Constrained, = ax.plot(x_ax[validation_period:150+validation_period], Raw_g_const, label = \"constrained CF\")\n",
    "mp.xlabel(\"days\")\n",
    "mp.ylabel(\"Collateral factor\")\n",
    "mp.title(\"{:.15s} CF hard solution\".format(Title))\n",
    "ax.legend(handles = [Non_constrained, Constrained])\n",
    "mp.show()\n",
    "\n",
    "\n",
    "#############################\n",
    "\n",
    "# start = 28\n",
    "# Rss = np.zeros(CF_test_period-validation_period)\n",
    "# for kk in range(0, CF_test_period-validation_period, update_period):\n",
    "#     Rss[start] = Raw_g[kk:kk+validation_period]\n",
    "#     start += 1\n",
    "\n",
    "# mp.plot(x_ax[:(CF_test_period-validation_period)], Rss)\n",
    "# mp.show()"
   ]
  }
 ],
 "metadata": {
  "kernelspec": {
   "display_name": "Python 3 (ipykernel)",
   "language": "python",
   "name": "python3"
  },
  "language_info": {
   "codemirror_mode": {
    "name": "ipython",
    "version": 3
   },
   "file_extension": ".py",
   "mimetype": "text/x-python",
   "name": "python",
   "nbconvert_exporter": "python",
   "pygments_lexer": "ipython3",
   "version": "3.10.3"
  }
 },
 "nbformat": 4,
 "nbformat_minor": 5
}
